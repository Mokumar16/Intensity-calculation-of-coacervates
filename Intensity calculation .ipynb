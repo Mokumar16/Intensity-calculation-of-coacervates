{
  "nbformat": 4,
  "nbformat_minor": 0,
  "metadata": {
    "colab": {
      "provenance": []
    },
    "kernelspec": {
      "name": "python3",
      "display_name": "Python 3"
    },
    "language_info": {
      "name": "python"
    }
  },
  "cells": [
    {
      "cell_type": "code",
      "execution_count": null,
      "metadata": {
        "id": "L5Z1fenQ7jA4"
      },
      "outputs": [],
      "source": []
    },
    {
      "cell_type": "code",
      "execution_count": 3,
      "metadata": {
        "id": "1uM-zSErZ3wW"
      },
      "outputs": [],
      "source": [
        "import os\n",
        "import numpy as np\n",
        "import pandas as pd\n",
        "from skimage.io import imread, imsave\n",
        "from skimage.filters import threshold_otsu\n",
        "from skimage.measure import label, regionprops\n",
        "from skimage.color import label2rgb\n",
        "from skimage.segmentation import mark_boundaries\n",
        "import matplotlib.pyplot as plt\n",
        "from pathlib import Path\n",
        "from IPython.display import display\n",
        "\n",
        "def process_image(image):\n",
        "    if image.ndim == 3:\n",
        "        image = image[..., 0]  # Convert to grayscale if RGB\n",
        "    thresh = threshold_otsu(image)\n",
        "    mask_coacervate = image > thresh\n",
        "    mask_background = ~mask_coacervate\n",
        "\n",
        "    Iav = image[mask_coacervate].mean() if np.any(mask_coacervate) else 0\n",
        "    Ibk = image[mask_background].mean() if np.any(mask_background) else 0\n",
        "\n",
        "    return Iav, Ibk, mask_coacervate\n",
        "\n",
        "def analyze_images():\n",
        "    folder = Path(\"/content\")\n",
        "    image_files = sorted([f for f in folder.glob(\"*.tif\") if f.stem != \"blank\"])\n",
        "    blank_file = folder / \"blank.tif\"\n",
        "\n",
        "    if not blank_file.exists():\n",
        "        raise FileNotFoundError(\"Missing 'blank.tif' in the folder\")\n",
        "\n",
        "    blank_image = imread(blank_file)\n",
        "    if blank_image.ndim == 3:\n",
        "        blank_image = blank_image[..., 0]\n",
        "    Ib = blank_image.mean()\n",
        "\n",
        "    results = []\n",
        "\n",
        "    for file in image_files:\n",
        "        img = imread(file)\n",
        "        if img.ndim == 3:\n",
        "            img = img[..., 0]\n",
        "\n",
        "        Iav, Ibk, mask = process_image(img)\n",
        "\n",
        "        # Label and extract region properties\n",
        "        labeled = label(mask)\n",
        "        regions = regionprops(labeled, intensity_image=img)\n",
        "\n",
        "        intensities = []\n",
        "        for i, region in enumerate(regions):\n",
        "            if region.area >= 5:  # optional: filter small noise\n",
        "                intensities.append({\"Droplet_ID\": i + 1, \"Mean_Intensity\": region.mean_intensity})\n",
        "\n",
        "        df_droplets = pd.DataFrame(intensities)\n",
        "        droplet_csv_path = folder / f\"{file.stem}_droplets.csv\"\n",
        "        df_droplets.loc[len(df_droplets.index)] = {\"Droplet_ID\": \"Average\", \"Mean_Intensity\": df_droplets[\"Mean_Intensity\"].mean()}\n",
        "        df_droplets.to_csv(droplet_csv_path, index=False)\n",
        "\n",
        "        # Overlay boundaries\n",
        "        overlay = mark_boundaries(img, labeled, color=(1, 0, 0))\n",
        "        fig, ax = plt.subplots(figsize=(6, 6))\n",
        "        ax.imshow(overlay, cmap=\"gray\")\n",
        "        ax.set_title(f\"Detected Droplets: {file.name}\")\n",
        "        ax.axis(\"off\")\n",
        "        plot_path = folder / f\"{file.stem}_droplets_overlay.png\"\n",
        "        plt.savefig(plot_path, bbox_inches='tight')\n",
        "        plt.close()\n",
        "\n",
        "# Run the function\n",
        "analyze_images()\n"
      ]
    }
  ]
}